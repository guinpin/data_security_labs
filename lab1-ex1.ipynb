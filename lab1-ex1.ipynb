{
 "cells": [
  {
   "cell_type": "markdown",
   "metadata": {},
   "source": [
    "Write a program for Bitwise XOR operation."
   ]
  },
  {
   "cell_type": "code",
   "execution_count": 5,
   "metadata": {
    "collapsed": true
   },
   "outputs": [],
   "source": [
    "#function of bitwise operation\n",
    "\n",
    "def bit_XOR(A, B):\n",
    "    C = []\n",
    "    for i in range(len(A)):\n",
    "        if A[i] not in ['0', '1']:\n",
    "            return(\"Not Binary\")\n",
    "        if B[i] not in ['0', '1']:\n",
    "            return(\"Not Binary\")\n",
    "        \n",
    "        if A[i] == B[i]:\n",
    "            C.append('0')\n",
    "        else:\n",
    "            C.append('1')\n",
    "    c = ''.join(C)        \n",
    "    return(c)"
   ]
  },
  {
   "cell_type": "code",
   "execution_count": 6,
   "metadata": {},
   "outputs": [
    {
     "name": "stdout",
     "output_type": "stream",
     "text": [
      "Please, insert the 1-st number\n",
      "1001101\n",
      "Please, insert the 2-nd number\n",
      "1100110\n",
      "C =  0101011\n"
     ]
    }
   ],
   "source": [
    "print(\"Please, insert the 1-st number\")\n",
    "A = str(input())\n",
    "print(\"Please, insert the 2-nd number\")\n",
    "B = str(input())\n",
    "\n",
    "if len(A) != len(B):\n",
    "    print(\"Numbers have different length\")\n",
    "else:\n",
    "    C = bit_XOR(A, B)\n",
    "    if C == \"Not Binary\":\n",
    "        print(\"One of the numbers is not binary\")\n",
    "    else:\n",
    "        print(\"C = \", C)"
   ]
  },
  {
   "cell_type": "code",
   "execution_count": null,
   "metadata": {
    "collapsed": true
   },
   "outputs": [],
   "source": []
  }
 ],
 "metadata": {
  "kernelspec": {
   "display_name": "Python 3",
   "language": "python",
   "name": "python3"
  },
  "language_info": {
   "codemirror_mode": {
    "name": "ipython",
    "version": 3
   },
   "file_extension": ".py",
   "mimetype": "text/x-python",
   "name": "python",
   "nbconvert_exporter": "python",
   "pygments_lexer": "ipython3",
   "version": "3.6.3"
  }
 },
 "nbformat": 4,
 "nbformat_minor": 2
}
