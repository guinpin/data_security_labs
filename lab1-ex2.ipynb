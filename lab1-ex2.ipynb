{
 "cells": [
  {
   "cell_type": "markdown",
   "metadata": {},
   "source": [
    "Write a program for generation a random password"
   ]
  },
  {
   "cell_type": "code",
   "execution_count": 2,
   "metadata": {},
   "outputs": [
    {
     "name": "stdout",
     "output_type": "stream",
     "text": [
      "rCmw7\\C6\n"
     ]
    }
   ],
   "source": [
    "import random, string\n",
    "\n",
    "#We have for classes of symbols: 0 - lowercase letters, 1 - uppercase letters, 2 - special symbols, 3 - numbers\n",
    "\n",
    "#password length = 8 by default, but can be changed\n",
    "\n",
    "def generate_pass(size = 8):\n",
    "    pas = []\n",
    "    for i in range(size):\n",
    "        symb_type = random.randint(0,3)\n",
    "        if symb_type == 0:\n",
    "            symb = random.randint(97, 122)\n",
    "            pas += chr(symb)\n",
    "        elif symb_type == 1:\n",
    "            symb = random.randint(65, 90)\n",
    "            pas += chr(symb)\n",
    "        elif symb_type == 2:\n",
    "            symb = random.choice(string.punctuation)\n",
    "            pas += symb\n",
    "        elif symb_type == 3:\n",
    "            symb = random.randint(48, 57)\n",
    "            pas += chr(symb)\n",
    "    return(pas)\n",
    "\n",
    "pas = generate_pass()\n",
    "password = ''.join(pas)\n",
    "print(password)"
   ]
  },
  {
   "cell_type": "markdown",
   "metadata": {},
   "source": [
    "Let's write function which generate the password, which will include at least one lowercase letter, at least one uppercase letter, at least one digit, at least one special symbol."
   ]
  },
  {
   "cell_type": "code",
   "execution_count": 5,
   "metadata": {},
   "outputs": [
    {
     "name": "stdout",
     "output_type": "stream",
     "text": [
      "31ECe$P7\n"
     ]
    }
   ],
   "source": [
    "def generate_complex_pass(size = 8):\n",
    "    positions = []\n",
    "    #generate the position of lowcase letter\n",
    "    l_letter_position = random.randint(0, size-1)\n",
    "\n",
    "    positions.append(l_letter_position)\n",
    "    \n",
    "    #generate the position of uppercase letter\n",
    "    u_letter_position = random.randint(0, size-1)\n",
    "    while u_letter_position in positions:\n",
    "        u_letter_position = random.randint(0, size-1)\n",
    "    \n",
    "    positions.append(u_letter_position)\n",
    "\n",
    "    #generate the position of digit\n",
    "    digit_position = random.randint(0, size-1)\n",
    "    while digit_position in positions:\n",
    "        digit_position = random.randint(0, size-1)\n",
    "        \n",
    "    positions.append(digit_position)\n",
    "    \n",
    "    #generate the position of special symbol\n",
    "    symbol_position = random.randint(0, size-1)\n",
    "    while symbol_position in positions:\n",
    "        symbol_position = random.randint(0, size-1)\n",
    "        \n",
    "    positions.append(symbol_position)\n",
    "    \n",
    "    #generete some password\n",
    "    complex_pass = generate_pass(size)\n",
    "    \n",
    "    #insert symbols to improve the password\n",
    "    complex_pass[l_letter_position] = chr(random.randint(97, 122))\n",
    "    \n",
    "    complex_pass[u_letter_position] = chr(random.randint(65, 90))\n",
    "    \n",
    "    complex_pass[symbol_position] = random.choice(string.punctuation)\n",
    "    \n",
    "    complex_pass[digit_position] = chr(random.randint(48, 57))\n",
    "    \n",
    "    password = ''.join(complex_pass)\n",
    "\n",
    "    return(password)\n",
    "\n",
    "print(generate_complex_pass())"
   ]
  },
  {
   "cell_type": "code",
   "execution_count": null,
   "metadata": {
    "collapsed": true
   },
   "outputs": [],
   "source": []
  }
 ],
 "metadata": {
  "kernelspec": {
   "display_name": "Python 3",
   "language": "python",
   "name": "python3"
  },
  "language_info": {
   "codemirror_mode": {
    "name": "ipython",
    "version": 3
   },
   "file_extension": ".py",
   "mimetype": "text/x-python",
   "name": "python",
   "nbconvert_exporter": "python",
   "pygments_lexer": "ipython3",
   "version": "3.6.3"
  }
 },
 "nbformat": 4,
 "nbformat_minor": 2
}
